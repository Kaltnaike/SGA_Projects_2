{
  "nbformat": 4,
  "nbformat_minor": 0,
  "metadata": {
    "colab": {
      "provenance": [],
      "authorship_tag": "ABX9TyNWSWUXQQhbIBku/i4sPCv1",
      "include_colab_link": true
    },
    "kernelspec": {
      "name": "python3",
      "display_name": "Python 3"
    },
    "language_info": {
      "name": "python"
    }
  },
  "cells": [
    {
      "cell_type": "markdown",
      "metadata": {
        "id": "view-in-github",
        "colab_type": "text"
      },
      "source": [
        "<a href=\"https://colab.research.google.com/github/Kaltnaike/SGA_Projects_2/blob/master/module1_lesson1.ipynb\" target=\"_parent\"><img src=\"https://colab.research.google.com/assets/colab-badge.svg\" alt=\"Open In Colab\"/></a>"
      ]
    },
    {
      "cell_type": "code",
      "execution_count": 4,
      "metadata": {
        "colab": {
          "base_uri": "https://localhost:8080/"
        },
        "id": "bszS_HnXbjl8",
        "outputId": "6f115750-cdbd-488f-f784-e8fc1df04f53"
      },
      "outputs": [
        {
          "output_type": "stream",
          "name": "stdout",
          "text": [
            "0\n",
            "1\n",
            "2\n",
            "3\n",
            "4\n",
            "5\n",
            "6\n",
            "7\n",
            "Done!\n"
          ]
        }
      ],
      "source": [
        "#Python Programming Syntax\n",
        "#Use else block to display a message “Done” after successful execution of for loop.\n",
        "for i in range(8):\n",
        "    print(i)\n",
        "else:\n",
        "    print(\"Done!\")\n"
      ]
    },
    {
      "cell_type": "code",
      "source": [
        "#Write a program to display all prime numbers within a range.\n",
        "#Prime number is a whole number greater than 1 whose only factors are 1 and itself\n",
        "min = int(input(\"Enter the min : \"))\n",
        "max = int(input(\"Enter the max : \"))\n",
        "print(\"Prime numbers between\", min, \"and\", max, \"are:\")\n",
        "for n in range(min,max + 1):\n",
        "   if n > 1:\n",
        "       for i in range(2,n):\n",
        "         #check for factors\n",
        "           if (n % i) == 0:\n",
        "             #if it is not a prime number break inner loop and check the next number\n",
        "               break\n",
        "       else:\n",
        "           print(n,end=\" \")"
      ],
      "metadata": {
        "colab": {
          "base_uri": "https://localhost:8080/"
        },
        "id": "RzdHWpwaqbGh",
        "outputId": "3c66c5ab-8117-4a77-a975-a7ab3c3d5cee"
      },
      "execution_count": 24,
      "outputs": [
        {
          "output_type": "stream",
          "name": "stdout",
          "text": [
            "Enter the min : 20\n",
            "Enter the max : 60\n",
            "Prime numbers between 25 and 50 are:\n",
            "29 31 37 41 43 47 "
          ]
        }
      ]
    },
    {
      "cell_type": "code",
      "source": [
        "#Use a loop to display elements from a given list present at odd index positions.\n",
        "list_1 = [10, 20, 30, 40, 50, 60, 70, 80, 90, 100]\n",
        "# starting from index 1 with step 2\n",
        "for i in list_1[1::2]:\n",
        "    print(i,end=\" \")"
      ],
      "metadata": {
        "colab": {
          "base_uri": "https://localhost:8080/"
        },
        "id": "IWH8H2Py7S7k",
        "outputId": "d46fd51e-2db8-431e-cf4b-e3364f66fecf"
      },
      "execution_count": 27,
      "outputs": [
        {
          "output_type": "stream",
          "name": "stdout",
          "text": [
            "20 40 60 80 100 "
          ]
        }
      ]
    },
    {
      "cell_type": "code",
      "source": [
        "#Calculate the cube of all numbers from 1 to a given number\n",
        "for x in range(1,10 +1):\n",
        "  print(f\"The Cube for\",x, \"is :\",(x**3))"
      ],
      "metadata": {
        "colab": {
          "base_uri": "https://localhost:8080/"
        },
        "id": "SWuT-f1X_2aB",
        "outputId": "8d6d931c-d410-47e0-fa36-5b139a548909"
      },
      "execution_count": 40,
      "outputs": [
        {
          "output_type": "stream",
          "name": "stdout",
          "text": [
            "The Cube for 1 is : 1\n",
            "The Cube for 2 is : 8\n",
            "The Cube for 3 is : 27\n",
            "The Cube for 4 is : 64\n",
            "The Cube for 5 is : 125\n",
            "The Cube for 6 is : 216\n",
            "The Cube for 7 is : 343\n",
            "The Cube for 8 is : 512\n",
            "The Cube for 9 is : 729\n",
            "The Cube for 10 is : 1000\n"
          ]
        }
      ]
    }
  ]
}