{
 "cells": [
  {
   "cell_type": "markdown",
   "id": "9f62d0ac",
   "metadata": {},
   "source": [
    "# Machine Learning Project"
   ]
  },
  {
   "cell_type": "markdown",
   "id": "731ac95a",
   "metadata": {},
   "source": [
    ">This Project is about building a Machine learning model that can identify whether a customer is eligible for loan or not\n",
    "Going through the different stages of machine learning framework,using the foundation of the concepts from Data analysis process workflow up to machine learning models developments"
   ]
  },
  {
   "cell_type": "markdown",
   "id": "22501a59",
   "metadata": {},
   "source": [
    "## Workflow\n",
    ">Import libraries\\\n",
    ">Load the dataset\\\n",
    ">Data Exploration\\\n",
    ">Data Preprocessing\\\n",
    ">Select the best features in the dataset\\\n",
    ">Split data set into training and testing\\\n",
    ">Normalization\\\n",
    ">Fit the model\\\n",
    ">Evaluate the model\\\n",
    ">Fine tunning\\\n",
    ">Predict the test data set"
   ]
  },
  {
   "cell_type": "markdown",
   "id": "55234d30",
   "metadata": {},
   "source": [
    "## Importing Libraries"
   ]
  },
  {
   "cell_type": "code",
   "execution_count": 1,
   "id": "f1b54c17",
   "metadata": {},
   "outputs": [],
   "source": [
    "import numpy as np\n",
    "import matplotlib.pyplot as plt\n",
    "import pandas as pd\n",
    "import seaborn as sns\n",
    "import numpy as np\n",
    "import joblib\n",
    "from sklearn.linear_model import LogisticRegression\n",
    "from sklearn.tree import DecisionTreeClassifier\n",
    "from sklearn.ensemble import RandomForestClassifier\n",
    "from sklearn.svm import SVC\n",
    "from sklearn.metrics import f1_score\n",
    "from sklearn.metrics import fbeta_score\n",
    "from sklearn.metrics import accuracy_score\n",
    "from sklearn.metrics import precision_score\n",
    "from sklearn.metrics import  recall_score\n",
    "from sklearn.metrics import roc_auc_score\n",
    "from sklearn.metrics import confusion_matrix\n",
    "from sklearn.model_selection import train_test_split\n",
    "from sklearn.preprocessing import LabelEncoder\n",
    "from sklearn.model_selection import GridSearchCV, RandomizedSearchCV"
   ]
  },
  {
   "cell_type": "code",
   "execution_count": 2,
   "id": "07f15e01",
   "metadata": {},
   "outputs": [
    {
     "data": {
      "text/html": [
       "<div>\n",
       "<style scoped>\n",
       "    .dataframe tbody tr th:only-of-type {\n",
       "        vertical-align: middle;\n",
       "    }\n",
       "\n",
       "    .dataframe tbody tr th {\n",
       "        vertical-align: top;\n",
       "    }\n",
       "\n",
       "    .dataframe thead th {\n",
       "        text-align: right;\n",
       "    }\n",
       "</style>\n",
       "<table border=\"1\" class=\"dataframe\">\n",
       "  <thead>\n",
       "    <tr style=\"text-align: right;\">\n",
       "      <th></th>\n",
       "      <th>Loan_ID</th>\n",
       "      <th>Gender</th>\n",
       "      <th>Married</th>\n",
       "      <th>Dependents</th>\n",
       "      <th>Education</th>\n",
       "      <th>Self_Employed</th>\n",
       "      <th>ApplicantIncome</th>\n",
       "      <th>CoapplicantIncome</th>\n",
       "      <th>LoanAmount</th>\n",
       "      <th>Loan_Amount_Term</th>\n",
       "      <th>Credit_History</th>\n",
       "      <th>Property_Area</th>\n",
       "      <th>Loan_Status</th>\n",
       "    </tr>\n",
       "  </thead>\n",
       "  <tbody>\n",
       "    <tr>\n",
       "      <th>0</th>\n",
       "      <td>LP001002</td>\n",
       "      <td>Male</td>\n",
       "      <td>No</td>\n",
       "      <td>0</td>\n",
       "      <td>Graduate</td>\n",
       "      <td>No</td>\n",
       "      <td>5849</td>\n",
       "      <td>0.0</td>\n",
       "      <td>NaN</td>\n",
       "      <td>360.0</td>\n",
       "      <td>1.0</td>\n",
       "      <td>Urban</td>\n",
       "      <td>Y</td>\n",
       "    </tr>\n",
       "    <tr>\n",
       "      <th>1</th>\n",
       "      <td>LP001003</td>\n",
       "      <td>Male</td>\n",
       "      <td>Yes</td>\n",
       "      <td>1</td>\n",
       "      <td>Graduate</td>\n",
       "      <td>No</td>\n",
       "      <td>4583</td>\n",
       "      <td>1508.0</td>\n",
       "      <td>128.0</td>\n",
       "      <td>360.0</td>\n",
       "      <td>1.0</td>\n",
       "      <td>Rural</td>\n",
       "      <td>N</td>\n",
       "    </tr>\n",
       "    <tr>\n",
       "      <th>2</th>\n",
       "      <td>LP001005</td>\n",
       "      <td>Male</td>\n",
       "      <td>Yes</td>\n",
       "      <td>0</td>\n",
       "      <td>Graduate</td>\n",
       "      <td>Yes</td>\n",
       "      <td>3000</td>\n",
       "      <td>0.0</td>\n",
       "      <td>66.0</td>\n",
       "      <td>360.0</td>\n",
       "      <td>1.0</td>\n",
       "      <td>Urban</td>\n",
       "      <td>Y</td>\n",
       "    </tr>\n",
       "  </tbody>\n",
       "</table>\n",
       "</div>"
      ],
      "text/plain": [
       "    Loan_ID Gender Married Dependents Education Self_Employed  \\\n",
       "0  LP001002   Male      No          0  Graduate            No   \n",
       "1  LP001003   Male     Yes          1  Graduate            No   \n",
       "2  LP001005   Male     Yes          0  Graduate           Yes   \n",
       "\n",
       "   ApplicantIncome  CoapplicantIncome  LoanAmount  Loan_Amount_Term  \\\n",
       "0             5849                0.0         NaN             360.0   \n",
       "1             4583             1508.0       128.0             360.0   \n",
       "2             3000                0.0        66.0             360.0   \n",
       "\n",
       "   Credit_History Property_Area Loan_Status  \n",
       "0             1.0         Urban           Y  \n",
       "1             1.0         Rural           N  \n",
       "2             1.0         Urban           Y  "
      ]
     },
     "execution_count": 2,
     "metadata": {},
     "output_type": "execute_result"
    }
   ],
   "source": [
    "#Load Dataset\n",
    "df = pd.read_csv(\"loan_data_set.csv\")\n",
    "df.head(3)"
   ]
  },
  {
   "cell_type": "markdown",
   "id": "01ce9765",
   "metadata": {},
   "source": [
    ">From the Dataset(614 rows and 13 columns)\n",
    ">>Loan_ID -> Unique Loan ID for each applicants\\\n",
    ">>Gender -> Male or Female\\\n",
    ">>Married -> Marriage status(Yes/No)\\\n",
    ">>Dependents -> Number of Dependents the applicants caters for\\\n",
    ">>Education -> Applicant's Education (Graduate/NotGraduate)\\\n",
    ">>Self_Employed -> Self employment(Yes/No)\\\n",
    ">>ApplicantIncome -> Applicant's income\\\n",
    ">>CoapplicantIncome -> Coapplicant's income\\\n",
    ">>LoanAmount -> Loan amount\\\n",
    ">>Loan_Amount_Term ->Term of a loan\\\n",
    ">>Credit_History -> Credit history of Applicant\\\n",
    ">>Property_Area -> Urban/ Semi-Urban/Rural\\\n",
    ">>Loan_Status ->  Loan approved (Y/N)\\\n",
    "\n",
    ">This is a supervised classification machine learning problem which the target variable of the dataset is loan_status which can take the values 'Y' or 'N'. \\\n",
    "The machine learning model will predict whether a customer is eligible for a loan or not based on their profile information such as Gender,Relationship Status, Dependents, Education, Self Employment, Applicant's Income, Coapplicant's Income,Loan Amount, Term of loan, and PropertyArea.\n"
   ]
  },
  {
   "cell_type": "markdown",
   "id": "30192b32",
   "metadata": {},
   "source": [
    "## Data Cleaning"
   ]
  },
  {
   "cell_type": "code",
   "execution_count": 3,
   "id": "b5ff14eb",
   "metadata": {},
   "outputs": [
    {
     "data": {
      "text/plain": [
       "Index(['loan_id', 'gender', 'married', 'dependents', 'education',\n",
       "       'self_employed', 'applicant_income', 'coapplicant_income',\n",
       "       'loan_amount', 'loan_amount_term', 'credit_history', 'property_area',\n",
       "       'loan_status'],\n",
       "      dtype='object')"
      ]
     },
     "execution_count": 3,
     "metadata": {},
     "output_type": "execute_result"
    }
   ],
   "source": [
    "#Rename the columns to lowercase with underscores instead of spaces\n",
    "df = df.rename(columns=lambda x: x.strip().lower().replace(' ', '_'))\n",
    "df = df.rename(columns={\"applicantincome\" : \"applicant_income\", \"coapplicantincome\" : \"coapplicant_income\", \"loanamount\" : \"loan_amount\"})\n",
    "df.columns"
   ]
  },
  {
   "cell_type": "code",
   "execution_count": 4,
   "id": "3658b67e",
   "metadata": {},
   "outputs": [
    {
     "data": {
      "text/plain": [
       "loan_id                0\n",
       "gender                13\n",
       "married                3\n",
       "dependents            15\n",
       "education              0\n",
       "self_employed         32\n",
       "applicant_income       0\n",
       "coapplicant_income     0\n",
       "loan_amount           22\n",
       "loan_amount_term      14\n",
       "credit_history        50\n",
       "property_area          0\n",
       "loan_status            0\n",
       "dtype: int64"
      ]
     },
     "execution_count": 4,
     "metadata": {},
     "output_type": "execute_result"
    }
   ],
   "source": [
    "# Check for missing values\n",
    "df.isnull().sum()"
   ]
  },
  {
   "cell_type": "code",
   "execution_count": 5,
   "id": "9b83d3d5",
   "metadata": {},
   "outputs": [],
   "source": [
    "#Work on missing values  median is a better choice because it is less sensitive to outliers.\n",
    "def replace_null_values(col): \n",
    "    if col.dtype == np.dtype(int):\n",
    "        return col.fillna(col.median())\n",
    "    elif col.dtype == np.dtype(float):\n",
    "        return col.fillna(col.median())\n",
    "    elif col.dtype == np.dtype(\"O\"):\n",
    "        return col.fillna(col.mode()[0])\n",
    "    else:\n",
    "        return col\n",
    "for col in df.columns:\n",
    "    df[col] = replace_null_values(df[col])"
   ]
  },
  {
   "cell_type": "code",
   "execution_count": 6,
   "id": "682ee9dd",
   "metadata": {},
   "outputs": [
    {
     "data": {
      "text/plain": [
       "loan_id               0\n",
       "gender                0\n",
       "married               0\n",
       "dependents            0\n",
       "education             0\n",
       "self_employed         0\n",
       "applicant_income      0\n",
       "coapplicant_income    0\n",
       "loan_amount           0\n",
       "loan_amount_term      0\n",
       "credit_history        0\n",
       "property_area         0\n",
       "loan_status           0\n",
       "dtype: int64"
      ]
     },
     "execution_count": 6,
     "metadata": {},
     "output_type": "execute_result"
    }
   ],
   "source": [
    "df.isnull().sum()"
   ]
  },
  {
   "cell_type": "code",
   "execution_count": 7,
   "id": "9ee1f3eb",
   "metadata": {},
   "outputs": [],
   "source": [
    "#No Duplicates in this Dataframe"
   ]
  },
  {
   "cell_type": "code",
   "execution_count": 8,
   "id": "8efc0418",
   "metadata": {},
   "outputs": [],
   "source": [
    "df = df.astype({'applicant_income':'int64'})\n",
    "df = df.astype({'coapplicant_income':'int64'})\n",
    "df = df.astype({'loan_amount':'int64'})\n",
    "df = df.astype({'loan_amount_term':'int64'})\n",
    "df = df.astype({'credit_history':'int64'})"
   ]
  },
  {
   "cell_type": "code",
   "execution_count": 9,
   "id": "6919780a",
   "metadata": {},
   "outputs": [
    {
     "data": {
      "text/html": [
       "<div>\n",
       "<style scoped>\n",
       "    .dataframe tbody tr th:only-of-type {\n",
       "        vertical-align: middle;\n",
       "    }\n",
       "\n",
       "    .dataframe tbody tr th {\n",
       "        vertical-align: top;\n",
       "    }\n",
       "\n",
       "    .dataframe thead th {\n",
       "        text-align: right;\n",
       "    }\n",
       "</style>\n",
       "<table border=\"1\" class=\"dataframe\">\n",
       "  <thead>\n",
       "    <tr style=\"text-align: right;\">\n",
       "      <th></th>\n",
       "      <th>loan_id</th>\n",
       "      <th>gender</th>\n",
       "      <th>married</th>\n",
       "      <th>dependents</th>\n",
       "      <th>education</th>\n",
       "      <th>self_employed</th>\n",
       "      <th>applicant_income</th>\n",
       "      <th>coapplicant_income</th>\n",
       "      <th>loan_amount</th>\n",
       "      <th>loan_amount_term</th>\n",
       "      <th>credit_history</th>\n",
       "      <th>property_area</th>\n",
       "      <th>loan_status</th>\n",
       "    </tr>\n",
       "  </thead>\n",
       "  <tbody>\n",
       "    <tr>\n",
       "      <th>0</th>\n",
       "      <td>LP001002</td>\n",
       "      <td>Male</td>\n",
       "      <td>No</td>\n",
       "      <td>0</td>\n",
       "      <td>Graduate</td>\n",
       "      <td>No</td>\n",
       "      <td>5849</td>\n",
       "      <td>0</td>\n",
       "      <td>128</td>\n",
       "      <td>360</td>\n",
       "      <td>1</td>\n",
       "      <td>Urban</td>\n",
       "      <td>Y</td>\n",
       "    </tr>\n",
       "    <tr>\n",
       "      <th>1</th>\n",
       "      <td>LP001003</td>\n",
       "      <td>Male</td>\n",
       "      <td>Yes</td>\n",
       "      <td>1</td>\n",
       "      <td>Graduate</td>\n",
       "      <td>No</td>\n",
       "      <td>4583</td>\n",
       "      <td>1508</td>\n",
       "      <td>128</td>\n",
       "      <td>360</td>\n",
       "      <td>1</td>\n",
       "      <td>Rural</td>\n",
       "      <td>N</td>\n",
       "    </tr>\n",
       "    <tr>\n",
       "      <th>2</th>\n",
       "      <td>LP001005</td>\n",
       "      <td>Male</td>\n",
       "      <td>Yes</td>\n",
       "      <td>0</td>\n",
       "      <td>Graduate</td>\n",
       "      <td>Yes</td>\n",
       "      <td>3000</td>\n",
       "      <td>0</td>\n",
       "      <td>66</td>\n",
       "      <td>360</td>\n",
       "      <td>1</td>\n",
       "      <td>Urban</td>\n",
       "      <td>Y</td>\n",
       "    </tr>\n",
       "    <tr>\n",
       "      <th>3</th>\n",
       "      <td>LP001006</td>\n",
       "      <td>Male</td>\n",
       "      <td>Yes</td>\n",
       "      <td>0</td>\n",
       "      <td>Not Graduate</td>\n",
       "      <td>No</td>\n",
       "      <td>2583</td>\n",
       "      <td>2358</td>\n",
       "      <td>120</td>\n",
       "      <td>360</td>\n",
       "      <td>1</td>\n",
       "      <td>Urban</td>\n",
       "      <td>Y</td>\n",
       "    </tr>\n",
       "    <tr>\n",
       "      <th>4</th>\n",
       "      <td>LP001008</td>\n",
       "      <td>Male</td>\n",
       "      <td>No</td>\n",
       "      <td>0</td>\n",
       "      <td>Graduate</td>\n",
       "      <td>No</td>\n",
       "      <td>6000</td>\n",
       "      <td>0</td>\n",
       "      <td>141</td>\n",
       "      <td>360</td>\n",
       "      <td>1</td>\n",
       "      <td>Urban</td>\n",
       "      <td>Y</td>\n",
       "    </tr>\n",
       "  </tbody>\n",
       "</table>\n",
       "</div>"
      ],
      "text/plain": [
       "    loan_id gender married dependents     education self_employed  \\\n",
       "0  LP001002   Male      No          0      Graduate            No   \n",
       "1  LP001003   Male     Yes          1      Graduate            No   \n",
       "2  LP001005   Male     Yes          0      Graduate           Yes   \n",
       "3  LP001006   Male     Yes          0  Not Graduate            No   \n",
       "4  LP001008   Male      No          0      Graduate            No   \n",
       "\n",
       "   applicant_income  coapplicant_income  loan_amount  loan_amount_term  \\\n",
       "0              5849                   0          128               360   \n",
       "1              4583                1508          128               360   \n",
       "2              3000                   0           66               360   \n",
       "3              2583                2358          120               360   \n",
       "4              6000                   0          141               360   \n",
       "\n",
       "   credit_history property_area loan_status  \n",
       "0               1         Urban           Y  \n",
       "1               1         Rural           N  \n",
       "2               1         Urban           Y  \n",
       "3               1         Urban           Y  \n",
       "4               1         Urban           Y  "
      ]
     },
     "execution_count": 9,
     "metadata": {},
     "output_type": "execute_result"
    }
   ],
   "source": [
    "#Save clean data frame\n",
    "cleaned_df=df\n",
    "cleaned_df.to_csv(\"loan_data.csv\", index=False)\n",
    "\n",
    "loan_df= pd.read_csv(\"loan_data.csv\")\n",
    "loan_df.head()"
   ]
  },
  {
   "cell_type": "markdown",
   "id": "f4c43fda",
   "metadata": {},
   "source": [
    "## Exploratory Data Analysis"
   ]
  },
  {
   "cell_type": "code",
   "execution_count": 10,
   "id": "89e310db",
   "metadata": {},
   "outputs": [
    {
     "name": "stdout",
     "output_type": "stream",
     "text": [
      "<class 'pandas.core.frame.DataFrame'>\n",
      "RangeIndex: 614 entries, 0 to 613\n",
      "Data columns (total 13 columns):\n",
      " #   Column              Non-Null Count  Dtype \n",
      "---  ------              --------------  ----- \n",
      " 0   loan_id             614 non-null    object\n",
      " 1   gender              614 non-null    object\n",
      " 2   married             614 non-null    object\n",
      " 3   dependents          614 non-null    object\n",
      " 4   education           614 non-null    object\n",
      " 5   self_employed       614 non-null    object\n",
      " 6   applicant_income    614 non-null    int64 \n",
      " 7   coapplicant_income  614 non-null    int64 \n",
      " 8   loan_amount         614 non-null    int64 \n",
      " 9   loan_amount_term    614 non-null    int64 \n",
      " 10  credit_history      614 non-null    int64 \n",
      " 11  property_area       614 non-null    object\n",
      " 12  loan_status         614 non-null    object\n",
      "dtypes: int64(5), object(8)\n",
      "memory usage: 62.5+ KB\n"
     ]
    }
   ],
   "source": [
    "#Get basic information about the dataset\n",
    "loan_df.info()"
   ]
  },
  {
   "cell_type": "code",
   "execution_count": 11,
   "id": "91e741cd",
   "metadata": {},
   "outputs": [
    {
     "data": {
      "text/html": [
       "<div>\n",
       "<style scoped>\n",
       "    .dataframe tbody tr th:only-of-type {\n",
       "        vertical-align: middle;\n",
       "    }\n",
       "\n",
       "    .dataframe tbody tr th {\n",
       "        vertical-align: top;\n",
       "    }\n",
       "\n",
       "    .dataframe thead th {\n",
       "        text-align: right;\n",
       "    }\n",
       "</style>\n",
       "<table border=\"1\" class=\"dataframe\">\n",
       "  <thead>\n",
       "    <tr style=\"text-align: right;\">\n",
       "      <th></th>\n",
       "      <th>applicant_income</th>\n",
       "      <th>coapplicant_income</th>\n",
       "      <th>loan_amount</th>\n",
       "      <th>loan_amount_term</th>\n",
       "      <th>credit_history</th>\n",
       "    </tr>\n",
       "  </thead>\n",
       "  <tbody>\n",
       "    <tr>\n",
       "      <th>count</th>\n",
       "      <td>614.000000</td>\n",
       "      <td>614.00000</td>\n",
       "      <td>614.000000</td>\n",
       "      <td>614.000000</td>\n",
       "      <td>614.000000</td>\n",
       "    </tr>\n",
       "    <tr>\n",
       "      <th>mean</th>\n",
       "      <td>5403.459283</td>\n",
       "      <td>1621.24430</td>\n",
       "      <td>145.752443</td>\n",
       "      <td>342.410423</td>\n",
       "      <td>0.855049</td>\n",
       "    </tr>\n",
       "    <tr>\n",
       "      <th>std</th>\n",
       "      <td>6109.041673</td>\n",
       "      <td>2926.24876</td>\n",
       "      <td>84.107233</td>\n",
       "      <td>64.428629</td>\n",
       "      <td>0.352339</td>\n",
       "    </tr>\n",
       "    <tr>\n",
       "      <th>min</th>\n",
       "      <td>150.000000</td>\n",
       "      <td>0.00000</td>\n",
       "      <td>9.000000</td>\n",
       "      <td>12.000000</td>\n",
       "      <td>0.000000</td>\n",
       "    </tr>\n",
       "    <tr>\n",
       "      <th>25%</th>\n",
       "      <td>2877.500000</td>\n",
       "      <td>0.00000</td>\n",
       "      <td>100.250000</td>\n",
       "      <td>360.000000</td>\n",
       "      <td>1.000000</td>\n",
       "    </tr>\n",
       "    <tr>\n",
       "      <th>50%</th>\n",
       "      <td>3812.500000</td>\n",
       "      <td>1188.50000</td>\n",
       "      <td>128.000000</td>\n",
       "      <td>360.000000</td>\n",
       "      <td>1.000000</td>\n",
       "    </tr>\n",
       "    <tr>\n",
       "      <th>75%</th>\n",
       "      <td>5795.000000</td>\n",
       "      <td>2297.25000</td>\n",
       "      <td>164.750000</td>\n",
       "      <td>360.000000</td>\n",
       "      <td>1.000000</td>\n",
       "    </tr>\n",
       "    <tr>\n",
       "      <th>max</th>\n",
       "      <td>81000.000000</td>\n",
       "      <td>41667.00000</td>\n",
       "      <td>700.000000</td>\n",
       "      <td>480.000000</td>\n",
       "      <td>1.000000</td>\n",
       "    </tr>\n",
       "  </tbody>\n",
       "</table>\n",
       "</div>"
      ],
      "text/plain": [
       "       applicant_income  coapplicant_income  loan_amount  loan_amount_term  \\\n",
       "count        614.000000           614.00000   614.000000        614.000000   \n",
       "mean        5403.459283          1621.24430   145.752443        342.410423   \n",
       "std         6109.041673          2926.24876    84.107233         64.428629   \n",
       "min          150.000000             0.00000     9.000000         12.000000   \n",
       "25%         2877.500000             0.00000   100.250000        360.000000   \n",
       "50%         3812.500000          1188.50000   128.000000        360.000000   \n",
       "75%         5795.000000          2297.25000   164.750000        360.000000   \n",
       "max        81000.000000         41667.00000   700.000000        480.000000   \n",
       "\n",
       "       credit_history  \n",
       "count      614.000000  \n",
       "mean         0.855049  \n",
       "std          0.352339  \n",
       "min          0.000000  \n",
       "25%          1.000000  \n",
       "50%          1.000000  \n",
       "75%          1.000000  \n",
       "max          1.000000  "
      ]
     },
     "execution_count": 11,
     "metadata": {},
     "output_type": "execute_result"
    }
   ],
   "source": [
    "loan_df.describe()"
   ]
  },
  {
   "cell_type": "code",
   "execution_count": 16,
   "id": "4a5d6000",
   "metadata": {},
   "outputs": [
    {
     "name": "stderr",
     "output_type": "stream",
     "text": [
      "C:\\Users\\USER\\anaconda3\\lib\\site-packages\\seaborn\\_decorators.py:36: FutureWarning: Pass the following variable as a keyword arg: x. From version 0.12, the only valid positional argument will be `data`, and passing other arguments without an explicit keyword will result in an error or misinterpretation.\n",
      "  warnings.warn(\n"
     ]
    },
    {
     "data": {
      "image/png": "[encoded data removed]",
      "text/plain": [
       "<Figure size 432x288 with 1 Axes>"
      ]
     },
     "metadata": {
      "needs_background": "light"
     },
     "output_type": "display_data"
    }
   ],
   "source": [
    "# Visualize the data using seaborn\n",
    "sns.countplot(loan_df['loan_status']);\n"
   ]
  },
  {
   "cell_type": "code",
   "execution_count": 17,
   "id": "7300b75f",
   "metadata": {},
   "outputs": [
    {
     "data": {
      "image/png": "[encoded data removed]",
      "text/plain": [
       "<Figure size 432x288 with 1 Axes>"
      ]
     },
     "metadata": {
      "needs_background": "light"
     },
     "output_type": "display_data"
    }
   ],
   "source": [
    "sns.boxplot(x='loan_status', y='applicant_income', data=loan_df);\n"
   ]
  },
  {
   "cell_type": "code",
   "execution_count": 18,
   "id": "bcfc6d28",
   "metadata": {},
   "outputs": [
    {
     "data": {
      "image/png": "[encoded data removed]",
      "text/plain": [
       "<Figure size 432x288 with 1 Axes>"
      ]
     },
     "metadata": {
      "needs_background": "light"
     },
     "output_type": "display_data"
    }
   ],
   "source": [
    "sns.boxplot(x='loan_status', y='loan_amount', data=loan_df);"
   ]
  },
  {
   "cell_type": "code",
   "execution_count": 19,
   "id": "e8cb0fd4",
   "metadata": {},
   "outputs": [
    {
     "data": {
      "text/plain": [
       "loan_status           1.000000\n",
       "credit_history        0.540556\n",
       "applicant_income     -0.004710\n",
       "loan_amount_term     -0.022549\n",
       "loan_amount          -0.033214\n",
       "coapplicant_income   -0.059188\n",
       "Name: loan_status, dtype: float64"
      ]
     },
     "execution_count": 19,
     "metadata": {},
     "output_type": "execute_result"
    }
   ],
   "source": [
    "loan_df['loan_status'] = loan_df['loan_status'].map({'Y': 1, 'N': 0})\n",
    "loan_df.corr()[\"loan_status\"].sort_values(ascending= False)"
   ]
  },
  {
   "cell_type": "markdown",
   "id": "85ea61b3",
   "metadata": {},
   "source": [
    ">The credit_history column has a positive correlation with the target variable, it can be a feature that will determine loan eligibility\n"
   ]
  },
  {
   "cell_type": "code",
   "execution_count": 20,
   "id": "80b181a4",
   "metadata": {},
   "outputs": [
    {
     "data": {
      "text/plain": [
       "<AxesSubplot:>"
      ]
     },
     "execution_count": 20,
     "metadata": {},
     "output_type": "execute_result"
    },
    {
     "data": {
      "image/png": "[encoded data removed]",
      "text/plain": [
       "<Figure size 432x288 with 2 Axes>"
      ]
     },
     "metadata": {
      "needs_background": "light"
     },
     "output_type": "display_data"
    }
   ],
   "source": [
    "sns.heatmap(loan_df.corr(), annot=True, cmap='coolwarm')"
   ]
  },
  {
   "cell_type": "code",
   "execution_count": 21,
   "id": "d84e11f0",
   "metadata": {},
   "outputs": [
    {
     "data": {
      "text/plain": [
       "Index(['applicant_income', 'coapplicant_income', 'loan_amount',\n",
       "       'loan_amount_term', 'credit_history', 'loan_status'],\n",
       "      dtype='object')"
      ]
     },
     "execution_count": 21,
     "metadata": {},
     "output_type": "execute_result"
    }
   ],
   "source": [
    "df_num = loan_df.select_dtypes(\"number\").columns\n",
    "df_num"
   ]
  },
  {
   "cell_type": "code",
   "execution_count": 22,
   "id": "166db6ad",
   "metadata": {},
   "outputs": [
    {
     "data": {
      "image/png": "[encoded data removed]",
      "text/plain": [
       "<Figure size 1152x864 with 6 Axes>"
      ]
     },
     "metadata": {
      "needs_background": "light"
     },
     "output_type": "display_data"
    }
   ],
   "source": [
    "loan_df[df_num].hist(figsize=(16, 12));"
   ]
  },
  {
   "cell_type": "code",
   "execution_count": 23,
   "id": "78d23ada",
   "metadata": {},
   "outputs": [
    {
     "data": {
      "text/plain": [
       "coapplicant_income    7.491530\n",
       "applicant_income      6.539513\n",
       "loan_amount           2.743053\n",
       "loan_status          -0.809998\n",
       "credit_history       -2.021971\n",
       "loan_amount_term     -2.402112\n",
       "dtype: float64"
      ]
     },
     "execution_count": 23,
     "metadata": {},
     "output_type": "execute_result"
    }
   ],
   "source": [
    "loan_df[df_num].skew().sort_values(ascending= False)"
   ]
  },
  {
   "cell_type": "markdown",
   "id": "0c700405",
   "metadata": {},
   "source": [
    ">The \"coapplicant_income\" and \"applicant_income\" columns have the highest skewed values\n"
   ]
  },
  {
   "cell_type": "code",
   "execution_count": 24,
   "id": "ceb31d33",
   "metadata": {},
   "outputs": [],
   "source": [
    "skewed_cols = [\"coapplicant_income\", \"applicant_income\"]"
   ]
  },
  {
   "cell_type": "code",
   "execution_count": 25,
   "id": "ae85ef02",
   "metadata": {},
   "outputs": [
    {
     "data": {
      "text/html": [
       "<div>\n",
       "<style scoped>\n",
       "    .dataframe tbody tr th:only-of-type {\n",
       "        vertical-align: middle;\n",
       "    }\n",
       "\n",
       "    .dataframe tbody tr th {\n",
       "        vertical-align: top;\n",
       "    }\n",
       "\n",
       "    .dataframe thead th {\n",
       "        text-align: right;\n",
       "    }\n",
       "</style>\n",
       "<table border=\"1\" class=\"dataframe\">\n",
       "  <thead>\n",
       "    <tr style=\"text-align: right;\">\n",
       "      <th></th>\n",
       "      <th>loan_id</th>\n",
       "      <th>gender</th>\n",
       "      <th>married</th>\n",
       "      <th>dependents</th>\n",
       "      <th>education</th>\n",
       "      <th>self_employed</th>\n",
       "      <th>applicant_income</th>\n",
       "      <th>coapplicant_income</th>\n",
       "      <th>loan_amount</th>\n",
       "      <th>loan_amount_term</th>\n",
       "      <th>credit_history</th>\n",
       "      <th>property_area</th>\n",
       "      <th>loan_status</th>\n",
       "    </tr>\n",
       "  </thead>\n",
       "  <tbody>\n",
       "    <tr>\n",
       "      <th>0</th>\n",
       "      <td>LP001002</td>\n",
       "      <td>Male</td>\n",
       "      <td>No</td>\n",
       "      <td>0</td>\n",
       "      <td>Graduate</td>\n",
       "      <td>No</td>\n",
       "      <td>5849</td>\n",
       "      <td>0</td>\n",
       "      <td>128</td>\n",
       "      <td>360</td>\n",
       "      <td>1</td>\n",
       "      <td>Urban</td>\n",
       "      <td>1</td>\n",
       "    </tr>\n",
       "    <tr>\n",
       "      <th>1</th>\n",
       "      <td>LP001003</td>\n",
       "      <td>Male</td>\n",
       "      <td>Yes</td>\n",
       "      <td>1</td>\n",
       "      <td>Graduate</td>\n",
       "      <td>No</td>\n",
       "      <td>4583</td>\n",
       "      <td>1508</td>\n",
       "      <td>128</td>\n",
       "      <td>360</td>\n",
       "      <td>1</td>\n",
       "      <td>Rural</td>\n",
       "      <td>0</td>\n",
       "    </tr>\n",
       "    <tr>\n",
       "      <th>2</th>\n",
       "      <td>LP001005</td>\n",
       "      <td>Male</td>\n",
       "      <td>Yes</td>\n",
       "      <td>0</td>\n",
       "      <td>Graduate</td>\n",
       "      <td>Yes</td>\n",
       "      <td>3000</td>\n",
       "      <td>0</td>\n",
       "      <td>66</td>\n",
       "      <td>360</td>\n",
       "      <td>1</td>\n",
       "      <td>Urban</td>\n",
       "      <td>1</td>\n",
       "    </tr>\n",
       "    <tr>\n",
       "      <th>3</th>\n",
       "      <td>LP001006</td>\n",
       "      <td>Male</td>\n",
       "      <td>Yes</td>\n",
       "      <td>0</td>\n",
       "      <td>Not Graduate</td>\n",
       "      <td>No</td>\n",
       "      <td>2583</td>\n",
       "      <td>2358</td>\n",
       "      <td>120</td>\n",
       "      <td>360</td>\n",
       "      <td>1</td>\n",
       "      <td>Urban</td>\n",
       "      <td>1</td>\n",
       "    </tr>\n",
       "    <tr>\n",
       "      <th>4</th>\n",
       "      <td>LP001008</td>\n",
       "      <td>Male</td>\n",
       "      <td>No</td>\n",
       "      <td>0</td>\n",
       "      <td>Graduate</td>\n",
       "      <td>No</td>\n",
       "      <td>6000</td>\n",
       "      <td>0</td>\n",
       "      <td>141</td>\n",
       "      <td>360</td>\n",
       "      <td>1</td>\n",
       "      <td>Urban</td>\n",
       "      <td>1</td>\n",
       "    </tr>\n",
       "  </tbody>\n",
       "</table>\n",
       "</div>"
      ],
      "text/plain": [
       "    loan_id gender married dependents     education self_employed  \\\n",
       "0  LP001002   Male      No          0      Graduate            No   \n",
       "1  LP001003   Male     Yes          1      Graduate            No   \n",
       "2  LP001005   Male     Yes          0      Graduate           Yes   \n",
       "3  LP001006   Male     Yes          0  Not Graduate            No   \n",
       "4  LP001008   Male      No          0      Graduate            No   \n",
       "\n",
       "   applicant_income  coapplicant_income  loan_amount  loan_amount_term  \\\n",
       "0              5849                   0          128               360   \n",
       "1              4583                1508          128               360   \n",
       "2              3000                   0           66               360   \n",
       "3              2583                2358          120               360   \n",
       "4              6000                   0          141               360   \n",
       "\n",
       "   credit_history property_area  loan_status  \n",
       "0               1         Urban            1  \n",
       "1               1         Rural            0  \n",
       "2               1         Urban            1  \n",
       "3               1         Urban            1  \n",
       "4               1         Urban            1  "
      ]
     },
     "execution_count": 25,
     "metadata": {},
     "output_type": "execute_result"
    }
   ],
   "source": [
    "loan_df.head()"
   ]
  },
  {
   "cell_type": "markdown",
   "id": "c741921a",
   "metadata": {},
   "source": [
    "## Data Preprocessing"
   ]
  },
  {
   "cell_type": "code",
   "execution_count": 26,
   "id": "f889cd64",
   "metadata": {},
   "outputs": [],
   "source": [
    "def check_outliers():\n",
    "        outliers_cols = []\n",
    "    \n",
    "        for col in loan_df.select_dtypes(\"number\"): \n",
    "            q1 = loan_df[col].quantile(.25)\n",
    "            q3 = loan_df[col].quantile(.75)\n",
    "            iqr = q3 - q1\n",
    "            lower_out= (loan_df[col] < (q1 - (1.5*iqr))).sum()\n",
    "            upper_out = (loan_df[col]  > (q3 + (1.5*iqr))).sum()\n",
    "\n",
    "            if lower_out > 0 or upper_out > 0 :\n",
    "                outliers_cols.append(col)\n",
    "\n",
    "        return outliers_cols"
   ]
  },
  {
   "cell_type": "code",
   "execution_count": 27,
   "id": "f38faf23",
   "metadata": {},
   "outputs": [],
   "source": [
    "#putting the function into a variable\n",
    "outlier_columns = check_outliers()"
   ]
  },
  {
   "cell_type": "code",
   "execution_count": 28,
   "id": "9eed80ed",
   "metadata": {},
   "outputs": [
    {
     "data": {
      "image/png": "[encoded data removed]",
      "text/plain": [
       "<Figure size 1080x720 with 5 Axes>"
      ]
     },
     "metadata": {
      "needs_background": "light"
     },
     "output_type": "display_data"
    }
   ],
   "source": [
    "#Visualizing the boxplot for the columns with outliers\n",
    "plt.figure(figsize=(15,10))\n",
    "for index, col in enumerate(outlier_columns):\n",
    "    plt.subplot(2,5, index+1)\n",
    "    sns.boxplot(x=loan_df[col])\n",
    "plt.tight_layout()\n",
    "plt.show()"
   ]
  },
  {
   "cell_type": "code",
   "execution_count": 29,
   "id": "3725160d",
   "metadata": {},
   "outputs": [],
   "source": [
    "from sklearn.preprocessing import StandardScaler\n",
    "scaler = StandardScaler()"
   ]
  },
  {
   "cell_type": "code",
   "execution_count": 30,
   "id": "0fa03f90",
   "metadata": {},
   "outputs": [],
   "source": [
    "#Transform the skewed columns\n",
    "loan_df[skewed_cols] = loan_df[skewed_cols].apply(lambda x: np.log(x + 1))"
   ]
  },
  {
   "cell_type": "code",
   "execution_count": 31,
   "id": "a0267657",
   "metadata": {},
   "outputs": [
    {
     "data": {
      "image/png": "[encoded data removed]",
      "text/plain": [
       "<Figure size 576x432 with 2 Axes>"
      ]
     },
     "metadata": {
      "needs_background": "light"
     },
     "output_type": "display_data"
    }
   ],
   "source": [
    "loan_df[skewed_cols].hist(figsize=(8, 6));#Columns distributed more evenly"
   ]
  },
  {
   "cell_type": "code",
   "execution_count": 32,
   "id": "de9936d6",
   "metadata": {},
   "outputs": [
    {
     "data": {
      "text/html": [
       "<div>\n",
       "<style scoped>\n",
       "    .dataframe tbody tr th:only-of-type {\n",
       "        vertical-align: middle;\n",
       "    }\n",
       "\n",
       "    .dataframe tbody tr th {\n",
       "        vertical-align: top;\n",
       "    }\n",
       "\n",
       "    .dataframe thead th {\n",
       "        text-align: right;\n",
       "    }\n",
       "</style>\n",
       "<table border=\"1\" class=\"dataframe\">\n",
       "  <thead>\n",
       "    <tr style=\"text-align: right;\">\n",
       "      <th></th>\n",
       "      <th>applicant_income</th>\n",
       "      <th>coapplicant_income</th>\n",
       "      <th>loan_amount</th>\n",
       "      <th>loan_amount_term</th>\n",
       "      <th>credit_history</th>\n",
       "    </tr>\n",
       "  </thead>\n",
       "  <tbody>\n",
       "    <tr>\n",
       "      <th>0</th>\n",
       "      <td>0.516186</td>\n",
       "      <td>-1.107779</td>\n",
       "      <td>-0.211241</td>\n",
       "      <td>0.273231</td>\n",
       "      <td>0.411733</td>\n",
       "    </tr>\n",
       "    <tr>\n",
       "      <th>1</th>\n",
       "      <td>0.137806</td>\n",
       "      <td>0.782160</td>\n",
       "      <td>-0.211241</td>\n",
       "      <td>0.273231</td>\n",
       "      <td>0.411733</td>\n",
       "    </tr>\n",
       "    <tr>\n",
       "      <th>2</th>\n",
       "      <td>-0.519479</td>\n",
       "      <td>-1.107779</td>\n",
       "      <td>-0.948996</td>\n",
       "      <td>0.273231</td>\n",
       "      <td>0.411733</td>\n",
       "    </tr>\n",
       "    <tr>\n",
       "      <th>3</th>\n",
       "      <td>-0.751605</td>\n",
       "      <td>0.897529</td>\n",
       "      <td>-0.306435</td>\n",
       "      <td>0.273231</td>\n",
       "      <td>0.411733</td>\n",
       "    </tr>\n",
       "    <tr>\n",
       "      <th>4</th>\n",
       "      <td>0.555727</td>\n",
       "      <td>-1.107779</td>\n",
       "      <td>-0.056551</td>\n",
       "      <td>0.273231</td>\n",
       "      <td>0.411733</td>\n",
       "    </tr>\n",
       "    <tr>\n",
       "      <th>...</th>\n",
       "      <td>...</td>\n",
       "      <td>...</td>\n",
       "      <td>...</td>\n",
       "      <td>...</td>\n",
       "      <td>...</td>\n",
       "    </tr>\n",
       "    <tr>\n",
       "      <th>609</th>\n",
       "      <td>-0.572062</td>\n",
       "      <td>-1.107779</td>\n",
       "      <td>-0.889500</td>\n",
       "      <td>0.273231</td>\n",
       "      <td>0.411733</td>\n",
       "    </tr>\n",
       "    <tr>\n",
       "      <th>610</th>\n",
       "      <td>-0.032679</td>\n",
       "      <td>-1.107779</td>\n",
       "      <td>-1.258378</td>\n",
       "      <td>-2.522836</td>\n",
       "      <td>0.411733</td>\n",
       "    </tr>\n",
       "    <tr>\n",
       "      <th>611</th>\n",
       "      <td>1.015921</td>\n",
       "      <td>0.308486</td>\n",
       "      <td>1.276168</td>\n",
       "      <td>0.273231</td>\n",
       "      <td>0.411733</td>\n",
       "    </tr>\n",
       "    <tr>\n",
       "      <th>612</th>\n",
       "      <td>0.918972</td>\n",
       "      <td>-1.107779</td>\n",
       "      <td>0.490816</td>\n",
       "      <td>0.273231</td>\n",
       "      <td>0.411733</td>\n",
       "    </tr>\n",
       "    <tr>\n",
       "      <th>613</th>\n",
       "      <td>0.137806</td>\n",
       "      <td>-1.107779</td>\n",
       "      <td>-0.151745</td>\n",
       "      <td>0.273231</td>\n",
       "      <td>-2.428760</td>\n",
       "    </tr>\n",
       "  </tbody>\n",
       "</table>\n",
       "<p>614 rows × 5 columns</p>\n",
       "</div>"
      ],
      "text/plain": [
       "     applicant_income  coapplicant_income  loan_amount  loan_amount_term  \\\n",
       "0            0.516186           -1.107779    -0.211241          0.273231   \n",
       "1            0.137806            0.782160    -0.211241          0.273231   \n",
       "2           -0.519479           -1.107779    -0.948996          0.273231   \n",
       "3           -0.751605            0.897529    -0.306435          0.273231   \n",
       "4            0.555727           -1.107779    -0.056551          0.273231   \n",
       "..                ...                 ...          ...               ...   \n",
       "609         -0.572062           -1.107779    -0.889500          0.273231   \n",
       "610         -0.032679           -1.107779    -1.258378         -2.522836   \n",
       "611          1.015921            0.308486     1.276168          0.273231   \n",
       "612          0.918972           -1.107779     0.490816          0.273231   \n",
       "613          0.137806           -1.107779    -0.151745          0.273231   \n",
       "\n",
       "     credit_history  \n",
       "0          0.411733  \n",
       "1          0.411733  \n",
       "2          0.411733  \n",
       "3          0.411733  \n",
       "4          0.411733  \n",
       "..              ...  \n",
       "609        0.411733  \n",
       "610        0.411733  \n",
       "611        0.411733  \n",
       "612        0.411733  \n",
       "613       -2.428760  \n",
       "\n",
       "[614 rows x 5 columns]"
      ]
     },
     "execution_count": 32,
     "metadata": {},
     "output_type": "execute_result"
    }
   ],
   "source": [
    "#Scaling the columns with outliers\n",
    "loan_df[outlier_columns] = scaler.fit_transform(loan_df[outlier_columns])\n",
    "loan_df[outlier_columns]"
   ]
  },
  {
   "cell_type": "code",
   "execution_count": 33,
   "id": "9d9ff2b9",
   "metadata": {},
   "outputs": [],
   "source": [
    "loan_df= loan_df.drop(\"loan_id\", axis=1)\n",
    "#Identify categorical columns\n",
    "cat_columns = loan_df.select_dtypes(include=['object']).columns.tolist()\n",
    "\n",
    "#Convert categorical columns to numeric values using LabelEncoder\n",
    "le = LabelEncoder()\n",
    "for col in cat_columns:\n",
    "    loan_df[col] = le.fit_transform(loan_df[col])"
   ]
  },
  {
   "cell_type": "code",
   "execution_count": 34,
   "id": "95092382",
   "metadata": {},
   "outputs": [
    {
     "data": {
      "text/html": [
       "<div>\n",
       "<style scoped>\n",
       "    .dataframe tbody tr th:only-of-type {\n",
       "        vertical-align: middle;\n",
       "    }\n",
       "\n",
       "    .dataframe tbody tr th {\n",
       "        vertical-align: top;\n",
       "    }\n",
       "\n",
       "    .dataframe thead th {\n",
       "        text-align: right;\n",
       "    }\n",
       "</style>\n",
       "<table border=\"1\" class=\"dataframe\">\n",
       "  <thead>\n",
       "    <tr style=\"text-align: right;\">\n",
       "      <th></th>\n",
       "      <th>gender</th>\n",
       "      <th>married</th>\n",
       "      <th>dependents</th>\n",
       "      <th>education</th>\n",
       "      <th>self_employed</th>\n",
       "      <th>applicant_income</th>\n",
       "      <th>coapplicant_income</th>\n",
       "      <th>loan_amount</th>\n",
       "      <th>loan_amount_term</th>\n",
       "      <th>credit_history</th>\n",
       "      <th>property_area</th>\n",
       "      <th>loan_status</th>\n",
       "    </tr>\n",
       "  </thead>\n",
       "  <tbody>\n",
       "    <tr>\n",
       "      <th>0</th>\n",
       "      <td>1</td>\n",
       "      <td>0</td>\n",
       "      <td>0</td>\n",
       "      <td>0</td>\n",
       "      <td>0</td>\n",
       "      <td>0.516186</td>\n",
       "      <td>-1.107779</td>\n",
       "      <td>-0.211241</td>\n",
       "      <td>0.273231</td>\n",
       "      <td>0.411733</td>\n",
       "      <td>2</td>\n",
       "      <td>1</td>\n",
       "    </tr>\n",
       "    <tr>\n",
       "      <th>1</th>\n",
       "      <td>1</td>\n",
       "      <td>1</td>\n",
       "      <td>1</td>\n",
       "      <td>0</td>\n",
       "      <td>0</td>\n",
       "      <td>0.137806</td>\n",
       "      <td>0.782160</td>\n",
       "      <td>-0.211241</td>\n",
       "      <td>0.273231</td>\n",
       "      <td>0.411733</td>\n",
       "      <td>0</td>\n",
       "      <td>0</td>\n",
       "    </tr>\n",
       "    <tr>\n",
       "      <th>2</th>\n",
       "      <td>1</td>\n",
       "      <td>1</td>\n",
       "      <td>0</td>\n",
       "      <td>0</td>\n",
       "      <td>1</td>\n",
       "      <td>-0.519479</td>\n",
       "      <td>-1.107779</td>\n",
       "      <td>-0.948996</td>\n",
       "      <td>0.273231</td>\n",
       "      <td>0.411733</td>\n",
       "      <td>2</td>\n",
       "      <td>1</td>\n",
       "    </tr>\n",
       "    <tr>\n",
       "      <th>3</th>\n",
       "      <td>1</td>\n",
       "      <td>1</td>\n",
       "      <td>0</td>\n",
       "      <td>1</td>\n",
       "      <td>0</td>\n",
       "      <td>-0.751605</td>\n",
       "      <td>0.897529</td>\n",
       "      <td>-0.306435</td>\n",
       "      <td>0.273231</td>\n",
       "      <td>0.411733</td>\n",
       "      <td>2</td>\n",
       "      <td>1</td>\n",
       "    </tr>\n",
       "    <tr>\n",
       "      <th>4</th>\n",
       "      <td>1</td>\n",
       "      <td>0</td>\n",
       "      <td>0</td>\n",
       "      <td>0</td>\n",
       "      <td>0</td>\n",
       "      <td>0.555727</td>\n",
       "      <td>-1.107779</td>\n",
       "      <td>-0.056551</td>\n",
       "      <td>0.273231</td>\n",
       "      <td>0.411733</td>\n",
       "      <td>2</td>\n",
       "      <td>1</td>\n",
       "    </tr>\n",
       "  </tbody>\n",
       "</table>\n",
       "</div>"
      ],
      "text/plain": [
       "   gender  married  dependents  education  self_employed  applicant_income  \\\n",
       "0       1        0           0          0              0          0.516186   \n",
       "1       1        1           1          0              0          0.137806   \n",
       "2       1        1           0          0              1         -0.519479   \n",
       "3       1        1           0          1              0         -0.751605   \n",
       "4       1        0           0          0              0          0.555727   \n",
       "\n",
       "   coapplicant_income  loan_amount  loan_amount_term  credit_history  \\\n",
       "0           -1.107779    -0.211241          0.273231        0.411733   \n",
       "1            0.782160    -0.211241          0.273231        0.411733   \n",
       "2           -1.107779    -0.948996          0.273231        0.411733   \n",
       "3            0.897529    -0.306435          0.273231        0.411733   \n",
       "4           -1.107779    -0.056551          0.273231        0.411733   \n",
       "\n",
       "   property_area  loan_status  \n",
       "0              2            1  \n",
       "1              0            0  \n",
       "2              2            1  \n",
       "3              2            1  \n",
       "4              2            1  "
      ]
     },
     "execution_count": 34,
     "metadata": {},
     "output_type": "execute_result"
    }
   ],
   "source": [
    "loan_df.head()"
   ]
  },
  {
   "cell_type": "markdown",
   "id": "27476c37",
   "metadata": {},
   "source": [
    "## Feature Selection\n"
   ]
  },
  {
   "cell_type": "code",
   "execution_count": 35,
   "id": "caf13a01",
   "metadata": {},
   "outputs": [],
   "source": [
    "X = loan_df.drop('loan_status', axis=1)\n",
    "y = loan_df['loan_status']\n",
    "#Splitting data into training and testing sets\n",
    "X_train, X_test, y_train, y_test = train_test_split(X, y, test_size=0.2, random_state=42)     "
   ]
  },
  {
   "cell_type": "markdown",
   "id": "0fc9822a",
   "metadata": {},
   "source": [
    "## Model selection and training\n",
    ">Select the appropriate machine learning model(s) for the given problem, train the model on the training set, and evaluate its performance on the testing set. "
   ]
  },
  {
   "cell_type": "code",
   "execution_count": 36,
   "id": "f5ad7d15",
   "metadata": {},
   "outputs": [],
   "source": [
    "# Logistic Regression\n",
    "lr = LogisticRegression()\n",
    "lr.fit(X_train, y_train)\n",
    "lr_pred = lr.predict(X_test)\n",
    "\n",
    "# Decision Tree\n",
    "dt = DecisionTreeClassifier()\n",
    "dt.fit(X_train, y_train)\n",
    "dt_pred = dt.predict(X_test)\n",
    "\n",
    "# Random Forest\n",
    "rf = RandomForestClassifier()\n",
    "rf.fit(X_train, y_train)\n",
    "rf_pred = rf.predict(X_test)\n"
   ]
  },
  {
   "cell_type": "markdown",
   "id": "09c260c8",
   "metadata": {},
   "source": [
    "## Model Evaluation\n",
    ">Evaluate the performance of the model using various metrics such as accuracy, precision, recall, F1-score, ROC-AUC, and confusion matrix. "
   ]
  },
  {
   "cell_type": "code",
   "execution_count": 37,
   "id": "f1e60fcf",
   "metadata": {},
   "outputs": [
    {
     "name": "stdout",
     "output_type": "stream",
     "text": [
      "Accuracy Score (Logistic Regression): 0.7886178861788617\n",
      "Accuracy Score (Decision Tree): 0.7154471544715447\n",
      "Accuracy Score (Random Forest): 0.7804878048780488\n",
      "Precision Score (Logistic Regression): 0.7596153846153846\n",
      "Precision Score (Decision Tree): 0.7777777777777778\n",
      "Precision Score (Random Forest): 0.7572815533980582\n",
      "Recall Score (Logistic Regression): 0.9875\n",
      "Recall Score (Decision Tree): 0.7875\n",
      "Recall Score (Random Forest): 0.975\n",
      "F1 Score (Logistic Regression): 0.8586956521739131\n",
      "F1 Score (Decision Tree): 0.782608695652174\n",
      "F1 Score (Random Forest): 0.8524590163934427\n",
      "ROC-AUC Score (Logistic Regression): 0.7030523255813954\n",
      "ROC-AUC Score (Decision Tree): 0.6844476744186047\n",
      "ROC-AUC Score (Random Forest): 0.6968023255813953\n",
      "Confusion Matrix (Logistic Regression):\n",
      " [[18 25]\n",
      " [ 1 79]]\n",
      "Confusion Matrix (Decision Tree):\n",
      " [[25 18]\n",
      " [17 63]]\n",
      "Confusion Matrix (Random Forest):\n",
      " [[18 25]\n",
      " [ 2 78]]\n"
     ]
    }
   ],
   "source": [
    "#Evaluation metrics\n",
    "print('Accuracy Score (Logistic Regression):', accuracy_score(y_test, lr_pred))\n",
    "print('Accuracy Score (Decision Tree):', accuracy_score(y_test, dt_pred))\n",
    "print('Accuracy Score (Random Forest):', accuracy_score(y_test, rf_pred))\n",
    "\n",
    "print('Precision Score (Logistic Regression):', precision_score(y_test, lr_pred))\n",
    "print('Precision Score (Decision Tree):', precision_score(y_test, dt_pred))\n",
    "print('Precision Score (Random Forest):', precision_score(y_test, rf_pred))\n",
    "\n",
    "print('Recall Score (Logistic Regression):', recall_score(y_test, lr_pred))\n",
    "print('Recall Score (Decision Tree):', recall_score(y_test, dt_pred))\n",
    "print('Recall Score (Random Forest):', recall_score(y_test, rf_pred))\n",
    "\n",
    "print('F1 Score (Logistic Regression):', f1_score(y_test, lr_pred))\n",
    "print('F1 Score (Decision Tree):', f1_score(y_test, dt_pred))\n",
    "print('F1 Score (Random Forest):', f1_score(y_test, rf_pred))\n",
    "\n",
    "print('ROC-AUC Score (Logistic Regression):', roc_auc_score(y_test, lr_pred))\n",
    "print('ROC-AUC Score (Decision Tree):', roc_auc_score(y_test, dt_pred))\n",
    "print('ROC-AUC Score (Random Forest):', roc_auc_score(y_test, rf_pred))\n",
    "\n",
    "print('Confusion Matrix (Logistic Regression):\\n', confusion_matrix(y_test, lr_pred))\n",
    "print('Confusion Matrix (Decision Tree):\\n', confusion_matrix(y_test, dt_pred))\n",
    "print('Confusion Matrix (Random Forest):\\n', confusion_matrix(y_test, rf_pred))"
   ]
  },
  {
   "cell_type": "markdown",
   "id": "254ee151",
   "metadata": {},
   "source": [
    ">Based on the accuracy, precision, recall, F1, and ROC-AUC scores, the Logistic Regression and Random Forest models are performing better than the Decision Tree model.\\\n",
    "\n",
    ">In terms of accuracy, the Logistic Regression model has a score of 0.7886, while the Random Forest model has a score of 0.7805. However, the Logistic Regression model has a higher precision score (0.7596) compared to the Random Forest model (0.7573). On the other hand, the Random Forest model has a higher recall score (0.975) compared to the Logistic Regression model (0.9875)\\\n",
    "\n",
    ">Based on the evaluation metrics, the logistic regression model appears to be the best choice for the loan eligibility prediction model. It has the highest accuracy score, precision score, F1 score, and ROC-AUC score among the three models. The confusion matrix also shows that the model has a relatively low number of false positives and false negatives, indicating that it is performing well in both predicting loan approvals and rejections."
   ]
  },
  {
   "cell_type": "markdown",
   "id": "b1be6140",
   "metadata": {},
   "source": [
    "## Model Tuning\n",
    ">Tune the hyperparameters of the model to improve its performance."
   ]
  },
  {
   "cell_type": "code",
   "execution_count": 42,
   "id": "3eaa5e6b",
   "metadata": {},
   "outputs": [
    {
     "name": "stdout",
     "output_type": "stream",
     "text": [
      "Best Hyperparameters:  {'C': 0.01, 'penalty': 'l2', 'solver': 'liblinear'}\n",
      "Best Score:  0.8145949288806431\n"
     ]
    }
   ],
   "source": [
    "#Define the hyperparameters to tune\n",
    "param_grid = {'C': [0.001, 0.01, 0.1, 1, 10, 100],\n",
    "              'penalty': ['l1', 'l2'],\n",
    "              'solver': ['liblinear', 'saga']}\n",
    "clf = LogisticRegression(max_iter=1000)\n",
    "\n",
    "grid_search = GridSearchCV(clf, param_grid=param_grid, cv=5)\n",
    "grid_search.fit(X_train, y_train)\n",
    "\n",
    "print(\"Best Hyperparameters: \", grid_search.best_params_)\n",
    "print(\"Best Score: \", grid_search.best_score_)\n"
   ]
  },
  {
   "cell_type": "markdown",
   "id": "58a96184",
   "metadata": {},
   "source": [
    "## Final Model Selection and Training\n",
    ">Select the final model based on its performance on the testing set and train it on the entire dataset."
   ]
  },
  {
   "cell_type": "code",
   "execution_count": 44,
   "id": "2d5147d3",
   "metadata": {},
   "outputs": [
    {
     "name": "stdout",
     "output_type": "stream",
     "text": [
      "Testing accuracy: 0.7886178861788617\n"
     ]
    }
   ],
   "source": [
    "#Create grid search object\n",
    "grid = GridSearchCV(estimator=LogisticRegression(),\n",
    "                    param_grid=param_grid,\n",
    "                    cv=5, verbose=0)\n",
    "\n",
    "#Fit the grid search object to the training data\n",
    "grid.fit(X_train, y_train)\n",
    "\n",
    "#Make predictions on the testing data using the best estimator from grid search\n",
    "y_pred = grid.best_estimator_.predict(X_test)\n",
    "\n",
    "#Evaluate the accuracy of the final model on the testing data\n",
    "accuracy = accuracy_score(y_test, y_pred)\n",
    "print(\"Testing accuracy:\", accuracy)"
   ]
  },
  {
   "cell_type": "code",
   "execution_count": 46,
   "id": "e11ebc67",
   "metadata": {},
   "outputs": [
    {
     "data": {
      "text/plain": [
       "LogisticRegression(C=0.01, solver='liblinear')"
      ]
     },
     "execution_count": 46,
     "metadata": {},
     "output_type": "execute_result"
    }
   ],
   "source": [
    "#Train final model on entire dataset\n",
    "final_model = grid.best_estimator_\n",
    "final_model.fit(X, y)\n"
   ]
  }
 ],
 "metadata": {
  "kernelspec": {
   "display_name": "Python 3 (ipykernel)",
   "language": "python",
   "name": "python3"
  },
  "language_info": {
   "codemirror_mode": {
    "name": "ipython",
    "version": 3
   },
   "file_extension": ".py",
   "mimetype": "text/x-python",
   "name": "python",
   "nbconvert_exporter": "python",
   "pygments_lexer": "ipython3",
   "version": "3.9.12"
  }
 },
 "nbformat": 4,
 "nbformat_minor": 5
}
