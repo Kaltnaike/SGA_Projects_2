{
  "nbformat": 4,
  "nbformat_minor": 0,
  "metadata": {
    "colab": {
      "provenance": [],
      "authorship_tag": "ABX9TyMh4nJOpP8xIO5JB0VRQlx8",
      "include_colab_link": true
    },
    "kernelspec": {
      "name": "python3",
      "display_name": "Python 3"
    },
    "language_info": {
      "name": "python"
    }
  },
  "cells": [
    {
      "cell_type": "markdown",
      "metadata": {
        "id": "view-in-github",
        "colab_type": "text"
      },
      "source": [
        "<a href=\"https://colab.research.google.com/github/Kaltnaike/SGA_Projects_2/blob/master/module1_lesson2.ipynb\" target=\"_parent\"><img src=\"https://colab.research.google.com/assets/colab-badge.svg\" alt=\"Open In Colab\"/></a>"
      ]
    },
    {
      "cell_type": "code",
      "execution_count": null,
      "metadata": {
        "colab": {
          "base_uri": "https://localhost:8080/"
        },
        "id": "icaDPEP_P5cv",
        "outputId": "f8bb56c2-c87c-4676-fe19-c75aa1a07223"
      },
      "outputs": [
        {
          "output_type": "stream",
          "name": "stdout",
          "text": [
            "Da... Da... Darasimi?\n",
            "Co... Co... Conflicted?\n",
            "Su... Su... Surprised?\n"
          ]
        }
      ],
      "source": [
        "#Create a function, that repeats the first 2 letters of a word which will be followed by 3 dots and a space after. The string should be ended with a question mark.\n",
        "def stutter(word):\n",
        "    s = word[:2]\n",
        "    return (2 * (s + '... ')) + word + '?'\n",
        "\n",
        "\n",
        "print(stutter(\"Darasimi\"))\n",
        "print(stutter(\"Conflicted\"))\n",
        "print(stutter(\"Surprised\"))\n"
      ]
    },
    {
      "cell_type": "code",
      "source": [
        "#Perform a for loop that searches through a string and prints only distinct vowel letters.\n",
        "#Implementing the for loop in a function-printVowels to make it resuable for strings\n",
        "def printVowels(word):\n",
        "  for letter in word:\n",
        "    if letter == 'a' or letter == 'e' or letter == 'i' or letter == 'o' or letter == 'u':\n",
        "      print(letter,end=' ')\n"
      ],
      "metadata": {
        "id": "mMplKDC06LiP"
      },
      "execution_count": null,
      "outputs": []
    },
    {
      "cell_type": "code",
      "source": [
        "#Calling printVowels Function\n",
        "printVowels(\"Darasimi\")"
      ],
      "metadata": {
        "colab": {
          "base_uri": "https://localhost:8080/"
        },
        "id": "lUTKCvaJHbNP",
        "outputId": "adaeebdb-0e94-41d8-80b0-8bb78e4ea04b"
      },
      "execution_count": null,
      "outputs": [
        {
          "output_type": "stream",
          "name": "stdout",
          "text": [
            "a a i i "
          ]
        }
      ]
    },
    {
      "cell_type": "code",
      "source": [
        "#Calling printVowels Function\n",
        "printVowels(\"Conflicted\")"
      ],
      "metadata": {
        "colab": {
          "base_uri": "https://localhost:8080/"
        },
        "id": "bUwhf-wEHgiX",
        "outputId": "3c226400-18b7-42cf-846a-25ba480bf698"
      },
      "execution_count": null,
      "outputs": [
        {
          "output_type": "stream",
          "name": "stdout",
          "text": [
            "o i e "
          ]
        }
      ]
    },
    {
      "cell_type": "code",
      "source": [
        "#Calling printVowels Function\n",
        "printVowels(\"Surprised\")"
      ],
      "metadata": {
        "colab": {
          "base_uri": "https://localhost:8080/"
        },
        "id": "txSePI8_Hlbk",
        "outputId": "95fb9017-a0a6-4834-d6c2-adca97afd1b5"
      },
      "execution_count": null,
      "outputs": [
        {
          "output_type": "stream",
          "name": "stdout",
          "text": [
            "u i e "
          ]
        }
      ]
    },
    {
      "cell_type": "code",
      "source": [
        "#Perform a while loop that requests for a name, if that name is entered, it will be printed else, if user types “end” (this command should be case insensitive), the while loop is terminated\n",
        "input_name = True\n",
        "while input_name:\n",
        "     name = input('Enter your name, or type end to exit- ')\n",
        "     if name.lower() == 'end':\n",
        "               input_name = False"
      ],
      "metadata": {
        "colab": {
          "base_uri": "https://localhost:8080/"
        },
        "id": "LnJO5ygBZk3c",
        "outputId": "0db4dc53-f976-4159-d4e4-e67a02789366"
      },
      "execution_count": null,
      "outputs": [
        {
          "name": "stdout",
          "output_type": "stream",
          "text": [
            "Enter your name, or type end to exit- Awonaike Tawakalitu\n",
            "Enter your name, or type end to exit- Renaissance\n",
            "Enter your name, or type end to exit- ENd\n"
          ]
        }
      ]
    }
  ]
}